{
 "cells": [
  {
   "cell_type": "code",
   "execution_count": 2,
   "id": "51634ed4-7af2-4338-a6aa-dd107af278dd",
   "metadata": {},
   "outputs": [
    {
     "name": "stdout",
     "output_type": "stream",
     "text": [
      "[ 1  2  3  4  5  6  7  8  9 10]\n"
     ]
    }
   ],
   "source": [
    "#Utwórz jednowymiarową tablicę (wektor) z pierwszymi 10 dodatnimi liczbami całkowitymi i wyświetl jej wartość.\n",
    "import numpy as np\n",
    "\n",
    "wektor = []\n",
    "\n",
    "licznik = 1\n",
    "\n",
    "while len(wektor)<10:\n",
    "    if licznik > 0:\n",
    "        wektor.append(licznik)\n",
    "    licznik +=1\n",
    "\n",
    "wektor_numpy = np.array(wektor)\n",
    "print(wektor_numpy)"
   ]
  },
  {
   "cell_type": "code",
   "execution_count": 3,
   "id": "26a1e622-b262-4c32-a9cc-31083a4053ae",
   "metadata": {},
   "outputs": [
    {
     "name": "stdout",
     "output_type": "stream",
     "text": [
      "[[0 0 0]\n",
      " [0 0 0]\n",
      " [0 0 0]]\n"
     ]
    }
   ],
   "source": [
    "#Utwórz dwuwymiarową tablicę (macierz) o rozmiarze 3x3, wypełnij ją zerami i wyświetl jej wartość.\n",
    "import numpy as np\n",
    "\n",
    "\n",
    "macierz = []\n",
    "\n",
    "\n",
    "for i in range(3):\n",
    "    wiersz = []\n",
    "    for j in range(3):\n",
    "        wiersz.append(0)\n",
    "    macierz.append(wiersz)\n",
    "\n",
    "macierz_numpy = np.array(macierz)\n",
    "print(macierz_numpy)\n"
   ]
  },
  {
   "cell_type": "code",
   "execution_count": 4,
   "id": "9c4aff41-0200-4e8c-b6b8-00aab240330f",
   "metadata": {},
   "outputs": [
    {
     "name": "stdout",
     "output_type": "stream",
     "text": [
      "[[ 3  2  4  2  7]\n",
      " [10  9  7  2  9]\n",
      " [ 2  7  3  1  9]\n",
      " [ 6  6  7  4  8]\n",
      " [10  8  6 10 10]]\n"
     ]
    }
   ],
   "source": [
    "#Utwórz tablicę o rozmiarze 5x5, wypełnij ją losowymi liczbami całkowitymi z zakresu od 1 do 10 i wyświetl jej wartość.\n",
    "\n",
    "import numpy as np\n",
    "import random\n",
    "\n",
    "macierz_3 = []\n",
    "\n",
    "for i in range(5):\n",
    "    wiersz = []\n",
    "    for i in range(5):\n",
    "        liczba = random.randint(1,10)\n",
    "        wiersz.append(liczba)\n",
    "    macierz_3.append(wiersz)\n",
    "\n",
    "macierz_3_numpy = np.array(macierz_3)\n",
    "print(macierz_3_numpy)"
   ]
  },
  {
   "cell_type": "code",
   "execution_count": 6,
   "id": "a178c0c4-7ec8-4e1a-8cb0-1fcbfd9d1592",
   "metadata": {},
   "outputs": [
    {
     "name": "stdout",
     "output_type": "stream",
     "text": [
      "[[0 1 0 1]\n",
      " [0 0 1 1]\n",
      " [1 1 1 1]\n",
      " [0 0 1 1]]\n"
     ]
    }
   ],
   "source": [
    "# tablicę o rozmiarze 4x4, wypełnij ją losowymi liczbami rzeczywistymi z zakresu od 0 do 1 i wyświetl jej wartość.\n",
    "import numpy as np\n",
    "import random\n",
    "\n",
    "macierz_4 = []\n",
    "\n",
    "for i in range(4):\n",
    "    wiersz_4 = []\n",
    "    for j in range(4):\n",
    "        liczba_4 = random.randint(0,1)\n",
    "        wiersz_4.append(liczba_4)\n",
    "    macierz_4.append(wiersz_4)\n",
    "\n",
    "macierz_4_numpy = np.array(macierz_4)\n",
    "print(macierz_4_numpy)"
   ]
  },
  {
   "cell_type": "code",
   "execution_count": 7,
   "id": "bb362188-03ee-4756-8eda-72fedbd56e45",
   "metadata": {},
   "outputs": [
    {
     "name": "stdout",
     "output_type": "stream",
     "text": [
      "[6 4 7 5 8]\n",
      "[3 1 7 6 7]\n",
      "Suma: [ 9  5 14 11 15]\n",
      "Różnica: [ 3  3  0 -1  1]\n",
      "Mnożenie: [18  4 49 30 56]\n"
     ]
    }
   ],
   "source": [
    "#Utwórz dwie jednowymiarowe tablice o rozmiarze 5, wypełnij je losowymi liczbami całkowitymi z zakresu od 1 do 10 i wykonaj na nich operacje dodawania, odejmowania i mnożenia\n",
    "import numpy as np\n",
    "import random\n",
    "\n",
    "tablica_1 = np.array([random.randint(1,10) for i in range(5)])\n",
    "tablica_2 = np.array([random.randint(1,10) for i in range(5)])\n",
    "\n",
    "print(tablica_1)\n",
    "print(tablica_2)\n",
    "\n",
    "#dodawanie tablic\n",
    "suma = tablica_1 + tablica_2\n",
    "print(f\"Suma: {suma}\")\n",
    "\n",
    "#odejmowanie tablic\n",
    "różnica = tablica_1 - tablica_2\n",
    "print(f\"Różnica: {różnica}\")\n",
    "\n",
    "#mnożenie tablic\n",
    "mnożenie = tablica_1 * tablica_2\n",
    "print(f\"Mnożenie: {mnożenie}\")"
   ]
  },
  {
   "cell_type": "code",
   "execution_count": 8,
   "id": "8573cc3a-c2a6-4c0f-8bdf-a57c21a5d21d",
   "metadata": {},
   "outputs": [
    {
     "name": "stdout",
     "output_type": "stream",
     "text": [
      "Wektor 1: [9 8 9 3 7 8 5]\n",
      "Wektor 2: [9 4 6 4 8 1 7]\n",
      "Iloczyn skalarny: 278\n"
     ]
    }
   ],
   "source": [
    "#Utwórz dwa wektory o rozmiarze 7, wypełnij je losowymi liczbami i znajdź ich iloczyn skalarny.\n",
    "import numpy as np\n",
    "import random\n",
    "\n",
    "wektor_1 = np.array([random.randint(1,9) for _ in range(7)])\n",
    "wektor_2 = np.array([random.randint(1,9) for _ in range(7)])\n",
    "\n",
    "print(f\"Wektor 1: {wektor_1}\")\n",
    "print(f\"Wektor 2: {wektor_2}\")\n",
    "\n",
    "iloczyn_skalarny = np.dot(wektor_1, wektor_2)\n",
    "print(f\"Iloczyn skalarny: {iloczyn_skalarny}\")"
   ]
  },
  {
   "cell_type": "code",
   "execution_count": 11,
   "id": "ceaa0f7f-6e70-4951-b179-6d08ea312ede",
   "metadata": {},
   "outputs": [
    {
     "name": "stdout",
     "output_type": "stream",
     "text": [
      "Macierz 1: \n",
      "[[7, 9], [10, 8]]\n",
      "Macierz 2: \n",
      "[[8 2 6]\n",
      " [3 7 2]]\n",
      "Iloczyn macierzy z zad. 7 \n",
      "[[ 83  77  60]\n",
      " [104  76  76]]\n"
     ]
    }
   ],
   "source": [
    "#Utwórz dwie macierze o rozmiarach 2x2 i 2x3, wypełnij je losowymi liczbami całkowitymi z zakresu od 1 do 10 i pomnóż je.\n",
    "import numpy as np\n",
    "import random\n",
    "\n",
    "matrix_1 = []\n",
    "\n",
    "for i in range(2):\n",
    "    vers = []\n",
    "    for j in range(2):\n",
    "        number = random.randint(1,10)\n",
    "        vers.append(number)\n",
    "    matrix_1.append(vers)\n",
    "matrix_1_numpy = np.array(matrix_1)\n",
    "print(f\"Macierz 1: \\n{matrix_1}\")\n",
    "\n",
    "matrix_2 = []\n",
    "\n",
    "for x in range(2):\n",
    "    vers_2 = []\n",
    "    for y in range(3):\n",
    "        number_2 = random.randint(1,10)\n",
    "        vers_2.append(number_2)\n",
    "    matrix_2.append(vers_2)\n",
    "\n",
    "matrix_2_numpy = np.array(matrix_2)\n",
    "print(f\"Macierz 2: \\n{matrix_2_numpy}\")\n",
    "\n",
    "iloczyn_macierzy = np.dot(matrix_1_numpy, matrix_2_numpy)\n",
    "print(f\"Iloczyn macierzy z zad. 7 \\n{iloczyn_macierzy}\")"
   ]
  },
  {
   "cell_type": "code",
   "execution_count": 12,
   "id": "d584afa0-4d46-4b3e-8484-b607066e1cd8",
   "metadata": {},
   "outputs": [
    {
     "name": "stdout",
     "output_type": "stream",
     "text": [
      "Macierz 8: \n",
      "[[1 8 5]\n",
      " [9 7 5]\n",
      " [3 9 6]]\n",
      "Odwrócona macierz z zad. 8: \n",
      "[[ 0.2         0.2        -0.33333333]\n",
      " [ 2.6         0.6        -2.66666667]\n",
      " [-4.         -1.          4.33333333]]\n"
     ]
    }
   ],
   "source": [
    "#Utwórz macierz o rozmiarze 3x3, wypełnij ją losowymi liczbami całkowitymi z zakresu od 1 do 10 i znajdź jej odwrotność.\n",
    "macierz_8 = []\n",
    "\n",
    "for i in range(3):\n",
    "    wiersz_8 = []\n",
    "    for j in range(3):\n",
    "        liczba_8 = random.randint(1,10)\n",
    "        wiersz_8.append(liczba_8)\n",
    "    macierz_8.append(wiersz_8)\n",
    "\n",
    "macierz_8_numpy = np.array(macierz_8)\n",
    "print(f\"Macierz 8: \\n{macierz_8_numpy}\")\n",
    "odw_macierz_8 = np.linalg.inv(macierz_8_numpy)\n",
    "print(f\"Odwrócona macierz z zad. 8: \\n{odw_macierz_8}\")"
   ]
  },
  {
   "cell_type": "code",
   "execution_count": 14,
   "id": "0c606b8b-15ac-4669-a4b6-1376549a75f1",
   "metadata": {},
   "outputs": [
    {
     "name": "stdout",
     "output_type": "stream",
     "text": [
      "Macierz z zad 9: \n",
      "[[0 0 1 1]\n",
      " [1 1 1 1]\n",
      " [0 0 1 0]\n",
      " [0 1 1 1]]\n",
      "Macierz transponowana z zad 9: \n",
      "[[0 1 0 0]\n",
      " [0 1 0 1]\n",
      " [1 1 1 1]\n",
      " [1 1 0 1]]\n"
     ]
    }
   ],
   "source": [
    "#Utwórz macierz 4x4, wypełnij ją losowymi liczbami rzeczywistymi z zakresu od 0 do 1 i przetransponuj ją.\n",
    "import numpy as np\n",
    "import random\n",
    "\n",
    "macierz_9 = []\n",
    "\n",
    "for i in range(4):\n",
    "    wiersz_9 = []\n",
    "    for j in range(4):\n",
    "        liczba_9 = random.randint(0,1)\n",
    "        wiersz_9.append(liczba_9)\n",
    "    macierz_9.append(wiersz_9)\n",
    "\n",
    "macierz_9_numpy = np.array(macierz_9)\n",
    "print(f\"Macierz z zad 9: \\n{macierz_9_numpy}\")\n",
    "macierz_9_T = macierz_9_numpy.T\n",
    "print(f\"Macierz transponowana z zad 9: \\n{macierz_9_T}\")"
   ]
  },
  {
   "cell_type": "code",
   "execution_count": 15,
   "id": "544606f5-002c-4692-a9d4-4618d03842c6",
   "metadata": {},
   "outputs": [
    {
     "name": "stdout",
     "output_type": "stream",
     "text": [
      "Wektor z zad 10 [ 1  1 10  2]\n",
      " Macierz z zadania 10: \n",
      "[[ 9  6  3  3]\n",
      " [ 7  9  9 10]\n",
      " [ 7  2  1  2]]\n",
      "Wynik zadania 10:\n",
      "Iloczyn macierzy i wektora\n",
      "[ 51 126  23]\n"
     ]
    }
   ],
   "source": [
    "#Utwórz macierz o rozmiarze 3x4 i wektor o rozmiarze 4, wypełnij je losowymi liczbami całkowitymi z zakresu od 1 do 10 i pomnóż macierz przez wektor\n",
    "import numpy as np\n",
    "import random\n",
    "\n",
    "wektor_10 = np.array([random.randint(1,10) for _ in range(4)])\n",
    "print(f'Wektor z zad 10 {wektor_10}')\n",
    "\n",
    "macierz_10 = np.array([[random.randint(1,10) for _ in range(4)] for _ in range(3)])\n",
    "print(f\" Macierz z zadania 10: \\n{macierz_10}\")\n",
    "\n",
    "iloczyn_10 = np.dot(macierz_10, wektor_10)\n",
    "print(f\"Wynik zadania 10:\\nIloczyn macierzy i wektora\\n{iloczyn_10}\")"
   ]
  },
  {
   "cell_type": "code",
   "execution_count": 16,
   "id": "d79525f0-1787-4230-94fa-773b58bb2787",
   "metadata": {},
   "outputs": [
    {
     "name": "stdout",
     "output_type": "stream",
     "text": [
      "Wektor do zad 11:[10 10]\n",
      "Macierz do zad 11: \n",
      "[[2 4]\n",
      " [1 2]\n",
      " [5 8]]\n",
      "Wynik iloczynu z zad 11: [ 60  30 130]\n"
     ]
    }
   ],
   "source": [
    "#Utwórz macierz o rozmiarze 2x3 i wektor o rozmiarze 3, wypełnij je losowymi liczbami rzeczywistymi z zakresu od 0 do 1 i pomnóż macierz przez wektor.\n",
    "import numpy as np\n",
    "import random\n",
    "\n",
    "wektor_11 = np.array([random.randint(1,10) for _ in range(2)])\n",
    "print(f\"Wektor do zad 11:{wektor_11}\")\n",
    "\n",
    "macierz_11 = np.array([[random.randint(1,10) for i in range(2)] for j in range(3)])\n",
    "print(f\"Macierz do zad 11: \\n{macierz_11}\")\n",
    "\n",
    "iloczyn_11 = np.dot(macierz_11, wektor_11)\n",
    "print(f\"Wynik iloczynu z zad 11: {iloczyn_11}\")"
   ]
  },
  {
   "cell_type": "code",
   "execution_count": 24,
   "id": "aeaa4eea-f3a3-40d2-b6d2-5e7f5e8a3379",
   "metadata": {},
   "outputs": [
    {
     "name": "stdout",
     "output_type": "stream",
     "text": [
      "Pierwsza macierz z zad 12 \n",
      "[[7 8]\n",
      " [3 8]]\n",
      "Druga macierz z zad 12 \n",
      "[[10  4]\n",
      " [ 1  1]]\n",
      "Wynik mnożenia pierwiastkowego z zad 12: \n",
      "[[70 32]\n",
      " [ 3  8]]\n",
      "Wynik mnożenia skalarnego z zad 13: \n",
      "[[78 36]\n",
      " [38 20]]\n"
     ]
    }
   ],
   "source": [
    "#Utwórz dwie macierze o rozmiarze 2x2, wypełnij je losowymi liczbami całkowitymi z zakresu od 1 do 10 i wykonaj ich mnożenie pierwiastkowe.\n",
    "\n",
    "import numpy as np\n",
    "import random\n",
    "\n",
    "macierz_1_12 = np.array([[random.randint(1,10) for i in range(2)] for j in range(2)])\n",
    "print(f\"Pierwsza macierz z zad 12 \\n{macierz_1_12}\")\n",
    "\n",
    "macierz_2_12 = np.array([[random.randint(1,10) for i in range(2)] for j in range(2)])\n",
    "print(f\"Druga macierz z zad 12 \\n{macierz_2_12}\")\n",
    "\n",
    "iloczyn_pierw = macierz_1_12 * macierz_2_12\n",
    "print(f\"Wynik mnożenia pierwiastkowego z zad 12: \\n{iloczyn_pierw}\")\n",
    "#Utwórz dwie macierze o rozmiarze 2x2, wypełnij je losowymi liczbami całkowitymi z zakresu od 1 do 10 i znajdź ich iloczyn.\n",
    "iloczyn_skalarny = np.dot(macierz_1_12, macierz_2_12)\n",
    "print(f\"Wynik mnożenia skalarnego z zad 13: \\n{iloczyn_skalarny}\")"
   ]
  },
  {
   "cell_type": "code",
   "execution_count": 18,
   "id": "30610b12-410c-49a0-af68-0e97921b598b",
   "metadata": {},
   "outputs": [
    {
     "name": "stdout",
     "output_type": "stream",
     "text": [
      "Macierz 5x5 z zad 14:\n",
      "[[36 76 84 48 80]\n",
      " [45 91 82 35 85]\n",
      " [74 61 57 64  9]\n",
      " [52 34 23 41 85]\n",
      " [43 18 90 99 59]]\n",
      "Suma elementów macierzy z zad 14: \n",
      "1471\n"
     ]
    }
   ],
   "source": [
    "#Utwórz macierz 5x5, wypełnij ją losowymi liczbami całkowitymi z zakresu od 1 do 100 i znajdź sumę elementów macierzy.\n",
    "import numpy as np\n",
    "import random\n",
    "\n",
    "\n",
    "macierz_14 = np.array([[random.randint(1,100) for i in range(5)] for j in range(5)])\n",
    "print(f\"Macierz 5x5 z zad 14:\\n{macierz_14}\")\n",
    "suma_elem_macierz_14 = np.sum(macierz_14)\n",
    "print(f\"Suma elementów macierzy z zad 14: \\n{suma_elem_macierz_14}\")"
   ]
  },
  {
   "cell_type": "code",
   "execution_count": 19,
   "id": "b0385aec-7893-4348-8741-35b3e38cd686",
   "metadata": {},
   "outputs": [
    {
     "name": "stdout",
     "output_type": "stream",
     "text": [
      "Macierze 4x4 do zadania 15:\n",
      "Pierwsza maicerz\n",
      "[[ 1  1 10  3]\n",
      " [ 9 10  2 10]\n",
      " [10  3  3  9]\n",
      " [ 7  5  3  5]]\n",
      "Druga macierz[[ 5  8  1  9]\n",
      " [ 5  8  4  8]\n",
      " [ 8  2  5  4]\n",
      " [10  7 10  7]]\n",
      "Różnica macierzy z zad 15:[[-4 -7  9 -6]\n",
      " [ 4  2 -2  2]\n",
      " [ 2  1 -2  5]\n",
      " [-3 -2 -7 -2]]\n"
     ]
    }
   ],
   "source": [
    "#Utwórz dwie macierze o rozmiarze 4x4, wypełnij je losowymi liczbami całkowitymi z zakresu od 1 do 10 i znajdź ich różnicę.\n",
    "import numpy as np\n",
    "import random\n",
    "\n",
    "macierz_15_1 = np.array([[random.randint(1,10) for i in range(4)] for j in range(4)])\n",
    "macierz_15_2 = np.array([[random.randint(1,10) for i in range(4)] for j in range(4)])\n",
    "\n",
    "print(f\"Macierze 4x4 do zadania 15:\\nPierwsza maicerz\\n{macierz_15_1}\\nDruga macierz{macierz_15_2}\")\n",
    "roznica_15 = macierz_15_1 - macierz_15_2\n",
    "print(f\"Różnica macierzy z zad 15:{roznica_15}\")"
   ]
  },
  {
   "cell_type": "code",
   "execution_count": 20,
   "id": "0e288d42-9bb7-435c-b49b-9401c80276aa",
   "metadata": {},
   "outputs": [
    {
     "name": "stdout",
     "output_type": "stream",
     "text": [
      "Macierz 3x3:\n",
      "[[0.44261293 0.3189956  0.84544491]\n",
      " [0.61869378 0.03531765 0.76837018]\n",
      " [0.56999234 0.83517523 0.67449263]]\n",
      "Wektor kolumnowy zawierający sumę elementów każdego wiersza macierzy:\n",
      "[[1.60705344]\n",
      " [1.42238161]\n",
      " [2.0796602 ]]\n"
     ]
    }
   ],
   "source": [
    "#Utwórz macierz 3x3, wypełnij ją losowymi liczbami rzeczywistymi z zakresu od 0 do 1 i znajdź wektor kolumnowy zawierający sumę elementów każdego wiersza macierzy.\n",
    "import numpy as np\n",
    "import random\n",
    "\n",
    "macierz = np.random.rand(3, 3)\n",
    "print(\"Macierz 3x3:\")\n",
    "print(macierz)\n",
    "\n",
    "wektor_sum = np.sum(macierz, axis=1, keepdims=True)\n",
    "print(\"Wektor kolumnowy zawierający sumę elementów każdego wiersza macierzy:\")\n",
    "print(wektor_sum)"
   ]
  },
  {
   "cell_type": "code",
   "execution_count": 22,
   "id": "01e580b5-b8ed-4ae3-a57c-9aa111c6f4c2",
   "metadata": {},
   "outputs": [
    {
     "name": "stdout",
     "output_type": "stream",
     "text": [
      "Macierz kwadratowa z macierzy:\n",
      "[[ 1  2  3  4]\n",
      " [ 5  6  7  8]\n",
      " [ 9 10 11 12]]\n",
      "Wynosi:\n",
      "[[  1   4   9  16]\n",
      " [ 25  36  49  64]\n",
      " [ 81 100 121 144]]\n"
     ]
    }
   ],
   "source": [
    "#Utwórz macierz o rozmiarze 3x4 z dowolnymi liczbami całkowitymi i utwórz macierz z kwadratami tych liczb.\n",
    "import numpy as np\n",
    "\n",
    "macierz_17 = np.array([[1, 2, 3, 4],\n",
    "                    [5, 6, 7, 8],\n",
    "                    [9, 10, 11, 12]])\n",
    "\n",
    "macierz_kw_17 = np.square(macierz_17)\n",
    "print(f\"Macierz kwadratowa z macierzy:\\n{macierz_17}\\nWynosi:\\n{macierz_kw_17}\")"
   ]
  },
  {
   "cell_type": "code",
   "execution_count": 23,
   "id": "3189d05d-2a00-4cf7-891a-88a59e78697d",
   "metadata": {},
   "outputs": [
    {
     "name": "stdout",
     "output_type": "stream",
     "text": [
      "Wektor o rozm. 4 z zad 18:\n",
      "[21 12 36 14]\n",
      "Wektor pierwiastków z zad 18: \n",
      "[4.58257569 3.46410162 6.         3.74165739]\n"
     ]
    }
   ],
   "source": [
    "#Utwórz wektor o rozmiarze 4, wypełnij go losowymi liczbami całkowitymi z zakresu od 1 do 50 i znajdź wektor pierwiastków kwadratowych z tych liczb.\n",
    "wektor_18 = np.array([random.randint(1,50) for i in range(4)])\n",
    "print(f\"Wektor o rozm. 4 z zad 18:\\n{wektor_18}\")\n",
    "wektor_sqrt_18 = np.sqrt(wektor_18)\n",
    "print(f\"Wektor pierwiastków z zad 18: \\n{wektor_sqrt_18}\")"
   ]
  },
  {
   "cell_type": "code",
   "execution_count": null,
   "id": "8adc7c4d-0a80-4f4a-bf81-0dda1bc512b4",
   "metadata": {},
   "outputs": [],
   "source": []
  }
 ],
 "metadata": {
  "kernelspec": {
   "display_name": "Python 3 (ipykernel)",
   "language": "python",
   "name": "python3"
  },
  "language_info": {
   "codemirror_mode": {
    "name": "ipython",
    "version": 3
   },
   "file_extension": ".py",
   "mimetype": "text/x-python",
   "name": "python",
   "nbconvert_exporter": "python",
   "pygments_lexer": "ipython3",
   "version": "3.11.8"
  }
 },
 "nbformat": 4,
 "nbformat_minor": 5
}
